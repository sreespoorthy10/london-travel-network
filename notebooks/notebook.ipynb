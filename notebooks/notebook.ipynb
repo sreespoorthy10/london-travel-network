{
 "cells": [
  {
   "cell_type": "markdown",
   "id": "e9b7b290",
   "metadata": {},
   "source": [
    "Load the csv into dataframe"
   ]
  },
  {
   "cell_type": "code",
   "execution_count": null,
   "id": "15b3b0c8",
   "metadata": {},
   "outputs": [],
   "source": [
    "import pandas as pd \n",
    "\n",
    "file_path = '..\\data\\london_travel_network_data.csv'\n",
    "\n",
    "df = pd.read_csv(file_path)"
   ]
  },
  {
   "cell_type": "code",
   "execution_count": 9,
   "id": "c09a1da4",
   "metadata": {},
   "outputs": [
    {
     "data": {
      "text/plain": [
       "936"
      ]
     },
     "execution_count": 9,
     "metadata": {},
     "output_type": "execute_result"
    }
   ],
   "source": [
    "import sqlite3\n",
    "\n",
    "# Create an in-memory SQLite database\n",
    "conn = sqlite3.connect(':memory:')\n",
    "\n",
    "# Write the pandas DataFrame to the SQLite database as a table\n",
    "df.to_sql('journeys', conn, index=False, if_exists='replace')"
   ]
  },
  {
   "cell_type": "code",
   "execution_count": 11,
   "id": "ad6006e1",
   "metadata": {},
   "outputs": [
    {
     "data": {
      "text/html": [
       "<div>\n",
       "<style scoped>\n",
       "    .dataframe tbody tr th:only-of-type {\n",
       "        vertical-align: middle;\n",
       "    }\n",
       "\n",
       "    .dataframe tbody tr th {\n",
       "        vertical-align: top;\n",
       "    }\n",
       "\n",
       "    .dataframe thead th {\n",
       "        text-align: right;\n",
       "    }\n",
       "</style>\n",
       "<table border=\"1\" class=\"dataframe\">\n",
       "  <thead>\n",
       "    <tr style=\"text-align: right;\">\n",
       "      <th></th>\n",
       "      <th>index</th>\n",
       "      <th>month</th>\n",
       "      <th>year</th>\n",
       "      <th>days</th>\n",
       "      <th>report_date</th>\n",
       "      <th>journey_type</th>\n",
       "      <th>journeys_millions</th>\n",
       "    </tr>\n",
       "  </thead>\n",
       "  <tbody>\n",
       "    <tr>\n",
       "      <th>0</th>\n",
       "      <td>0</td>\n",
       "      <td>2</td>\n",
       "      <td>2020</td>\n",
       "      <td>29</td>\n",
       "      <td>2020-06-30T00:00:00.000</td>\n",
       "      <td>Underground &amp; DLR</td>\n",
       "      <td>8.041099</td>\n",
       "    </tr>\n",
       "    <tr>\n",
       "      <th>1</th>\n",
       "      <td>1</td>\n",
       "      <td>2</td>\n",
       "      <td>2020</td>\n",
       "      <td>29</td>\n",
       "      <td>2020-06-30T00:00:00.000</td>\n",
       "      <td>Bus</td>\n",
       "      <td>32.467243</td>\n",
       "    </tr>\n",
       "    <tr>\n",
       "      <th>2</th>\n",
       "      <td>2</td>\n",
       "      <td>2</td>\n",
       "      <td>2020</td>\n",
       "      <td>29</td>\n",
       "      <td>2020-06-30T00:00:00.000</td>\n",
       "      <td>Tram</td>\n",
       "      <td>0.470811</td>\n",
       "    </tr>\n",
       "    <tr>\n",
       "      <th>3</th>\n",
       "      <td>3</td>\n",
       "      <td>2</td>\n",
       "      <td>2020</td>\n",
       "      <td>29</td>\n",
       "      <td>2020-06-30T00:00:00.000</td>\n",
       "      <td>Overground</td>\n",
       "      <td>1.491890</td>\n",
       "    </tr>\n",
       "    <tr>\n",
       "      <th>4</th>\n",
       "      <td>4</td>\n",
       "      <td>2</td>\n",
       "      <td>2020</td>\n",
       "      <td>29</td>\n",
       "      <td>2020-06-30T00:00:00.000</td>\n",
       "      <td>Emirates Airline</td>\n",
       "      <td>0.004978</td>\n",
       "    </tr>\n",
       "    <tr>\n",
       "      <th>...</th>\n",
       "      <td>...</td>\n",
       "      <td>...</td>\n",
       "      <td>...</td>\n",
       "      <td>...</td>\n",
       "      <td>...</td>\n",
       "      <td>...</td>\n",
       "      <td>...</td>\n",
       "    </tr>\n",
       "    <tr>\n",
       "      <th>931</th>\n",
       "      <td>931</td>\n",
       "      <td>5</td>\n",
       "      <td>2012</td>\n",
       "      <td>31</td>\n",
       "      <td>2012-09-30T00:00:00.000</td>\n",
       "      <td>Bus</td>\n",
       "      <td>167.138336</td>\n",
       "    </tr>\n",
       "    <tr>\n",
       "      <th>932</th>\n",
       "      <td>932</td>\n",
       "      <td>5</td>\n",
       "      <td>2012</td>\n",
       "      <td>31</td>\n",
       "      <td>2012-09-30T00:00:00.000</td>\n",
       "      <td>Tram</td>\n",
       "      <td>2.328188</td>\n",
       "    </tr>\n",
       "    <tr>\n",
       "      <th>933</th>\n",
       "      <td>933</td>\n",
       "      <td>5</td>\n",
       "      <td>2012</td>\n",
       "      <td>31</td>\n",
       "      <td>2012-09-30T00:00:00.000</td>\n",
       "      <td>Overground</td>\n",
       "      <td>10.506406</td>\n",
       "    </tr>\n",
       "    <tr>\n",
       "      <th>934</th>\n",
       "      <td>934</td>\n",
       "      <td>5</td>\n",
       "      <td>2012</td>\n",
       "      <td>31</td>\n",
       "      <td>2012-09-30T00:00:00.000</td>\n",
       "      <td>Emirates Airline</td>\n",
       "      <td>0.534218</td>\n",
       "    </tr>\n",
       "    <tr>\n",
       "      <th>935</th>\n",
       "      <td>935</td>\n",
       "      <td>5</td>\n",
       "      <td>2012</td>\n",
       "      <td>31</td>\n",
       "      <td>2012-09-30T00:00:00.000</td>\n",
       "      <td>TfL Rail</td>\n",
       "      <td>NaN</td>\n",
       "    </tr>\n",
       "  </tbody>\n",
       "</table>\n",
       "<p>936 rows × 7 columns</p>\n",
       "</div>"
      ],
      "text/plain": [
       "     index  month  year  days              report_date       journey_type  \\\n",
       "0        0      2  2020    29  2020-06-30T00:00:00.000  Underground & DLR   \n",
       "1        1      2  2020    29  2020-06-30T00:00:00.000                Bus   \n",
       "2        2      2  2020    29  2020-06-30T00:00:00.000               Tram   \n",
       "3        3      2  2020    29  2020-06-30T00:00:00.000         Overground   \n",
       "4        4      2  2020    29  2020-06-30T00:00:00.000   Emirates Airline   \n",
       "..     ...    ...   ...   ...                      ...                ...   \n",
       "931    931      5  2012    31  2012-09-30T00:00:00.000                Bus   \n",
       "932    932      5  2012    31  2012-09-30T00:00:00.000               Tram   \n",
       "933    933      5  2012    31  2012-09-30T00:00:00.000         Overground   \n",
       "934    934      5  2012    31  2012-09-30T00:00:00.000   Emirates Airline   \n",
       "935    935      5  2012    31  2012-09-30T00:00:00.000           TfL Rail   \n",
       "\n",
       "     journeys_millions  \n",
       "0             8.041099  \n",
       "1            32.467243  \n",
       "2             0.470811  \n",
       "3             1.491890  \n",
       "4             0.004978  \n",
       "..                 ...  \n",
       "931         167.138336  \n",
       "932           2.328188  \n",
       "933          10.506406  \n",
       "934           0.534218  \n",
       "935                NaN  \n",
       "\n",
       "[936 rows x 7 columns]"
      ]
     },
     "metadata": {},
     "output_type": "display_data"
    }
   ],
   "source": [
    "query = \"SELECT * FROM journeys\"\n",
    "\n",
    "# Execute SQL query\n",
    "result_df = pd.read_sql(query, conn)\n",
    "\n",
    "# Display results\n",
    "display(result_df)"
   ]
  },
  {
   "cell_type": "markdown",
   "id": "dead8f6b",
   "metadata": {},
   "source": [
    "Most Popular Transport Types"
   ]
  },
  {
   "cell_type": "code",
   "execution_count": 14,
   "id": "35ed65ed-7108-4fb5-a235-7d324a874199",
   "metadata": {
    "customType": "sql",
    "dataFrameVariableName": "most_popular_transport_types",
    "executionCancelledAt": null,
    "executionTime": 1992,
    "lastExecutedAt": 1740467056348,
    "lastExecutedByKernel": "1f9ddcc5-6be0-48e2-b9cb-834cdb56e374",
    "lastScheduledRunId": null,
    "lastSuccessfullyExecutedCode": "-- most_popular_transport_types\nSELECT \n\tJ.journey_type\n\t, SUM(J.journeys_millions)\t\tAS total_journeys_millions\nFROM tfl.journeys J\nGROUP BY J.journey_type\nORDER BY total_journeys_millions DESC",
    "outputsMetadata": {
     "0": {
      "height": 550,
      "tableState": {
       "quickFilterText": ""
      },
      "type": "dataFrame"
     }
    },
    "sqlCellMode": "dataFrame",
    "sqlSource": {
     "integrationId": "7569175e-98be-4c89-9873-c20f699a9cc7",
     "integrationType": "databricks",
     "type": "integration"
    }
   },
   "outputs": [
    {
     "data": {
      "text/html": [
       "<div>\n",
       "<style scoped>\n",
       "    .dataframe tbody tr th:only-of-type {\n",
       "        vertical-align: middle;\n",
       "    }\n",
       "\n",
       "    .dataframe tbody tr th {\n",
       "        vertical-align: top;\n",
       "    }\n",
       "\n",
       "    .dataframe thead th {\n",
       "        text-align: right;\n",
       "    }\n",
       "</style>\n",
       "<table border=\"1\" class=\"dataframe\">\n",
       "  <thead>\n",
       "    <tr style=\"text-align: right;\">\n",
       "      <th></th>\n",
       "      <th>journey_type</th>\n",
       "      <th>total_journeys_millions</th>\n",
       "    </tr>\n",
       "  </thead>\n",
       "  <tbody>\n",
       "    <tr>\n",
       "      <th>0</th>\n",
       "      <td>Bus</td>\n",
       "      <td>24905.193947</td>\n",
       "    </tr>\n",
       "    <tr>\n",
       "      <th>1</th>\n",
       "      <td>Underground &amp; DLR</td>\n",
       "      <td>15020.466544</td>\n",
       "    </tr>\n",
       "    <tr>\n",
       "      <th>2</th>\n",
       "      <td>Overground</td>\n",
       "      <td>1666.845666</td>\n",
       "    </tr>\n",
       "    <tr>\n",
       "      <th>3</th>\n",
       "      <td>TfL Rail</td>\n",
       "      <td>411.313421</td>\n",
       "    </tr>\n",
       "    <tr>\n",
       "      <th>4</th>\n",
       "      <td>Tram</td>\n",
       "      <td>314.689875</td>\n",
       "    </tr>\n",
       "    <tr>\n",
       "      <th>5</th>\n",
       "      <td>Emirates Airline</td>\n",
       "      <td>14.583718</td>\n",
       "    </tr>\n",
       "  </tbody>\n",
       "</table>\n",
       "</div>"
      ],
      "text/plain": [
       "        journey_type  total_journeys_millions\n",
       "0                Bus             24905.193947\n",
       "1  Underground & DLR             15020.466544\n",
       "2         Overground              1666.845666\n",
       "3           TfL Rail               411.313421\n",
       "4               Tram               314.689875\n",
       "5   Emirates Airline                14.583718"
      ]
     },
     "metadata": {},
     "output_type": "display_data"
    }
   ],
   "source": [
    "## most_popular_transport_types\n",
    "popular_transport_types_query = \"\"\"\n",
    "SELECT \n",
    "\tJ.journey_type\n",
    "\t, SUM(J.journeys_millions)\t\tAS total_journeys_millions\n",
    "FROM journeys J\n",
    "GROUP BY J.journey_type\n",
    "ORDER BY total_journeys_millions DESC\n",
    "\"\"\"\n",
    "\n",
    "# Execute SQL query\n",
    "popular_transport_types_df = pd.read_sql(popular_transport_types_query, conn)\n",
    "\n",
    "display(popular_transport_types_df)\n",
    "\n"
   ]
  },
  {
   "cell_type": "markdown",
   "id": "e7873a62",
   "metadata": {},
   "source": [
    "Emirates Airline Popularity"
   ]
  },
  {
   "cell_type": "code",
   "execution_count": 16,
   "id": "7c3b3508-15f0-43be-ba4c-0daa55f5a1ff",
   "metadata": {
    "customType": "sql",
    "dataFrameVariableName": "emirates_airline_popularity",
    "executionCancelledAt": null,
    "executionTime": 2501,
    "lastExecutedAt": 1740467058849,
    "lastExecutedByKernel": "1f9ddcc5-6be0-48e2-b9cb-834cdb56e374",
    "lastScheduledRunId": null,
    "lastSuccessfullyExecutedCode": "-- emirates_airline_popularity\nSELECT\n\tJ.month\n\t, J.year\n\t, ROUND(J.journeys_millions, 2)\t\tAS rounded_journeys_millions\nFROM tfl.journeys J\nWHERE J.journey_type = 'Emirates Airline'\nORDER BY J.journeys_millions DESC\nLIMIT 5",
    "outputsMetadata": {
     "0": {
      "height": 550,
      "tableState": {
       "customFilter": {
        "const": {
         "type": "boolean",
         "valid": true,
         "value": true
        },
        "id": "03cee82c-b046-4740-b285-b38b9386f65f",
        "nodeType": "const"
       },
       "quickFilterText": ""
      },
      "type": "dataFrame"
     }
    },
    "sqlCellMode": "dataFrame",
    "sqlSource": {
     "integrationId": "7569175e-98be-4c89-9873-c20f699a9cc7",
     "integrationType": "databricks",
     "type": "integration"
    }
   },
   "outputs": [
    {
     "data": {
      "text/html": [
       "<div>\n",
       "<style scoped>\n",
       "    .dataframe tbody tr th:only-of-type {\n",
       "        vertical-align: middle;\n",
       "    }\n",
       "\n",
       "    .dataframe tbody tr th {\n",
       "        vertical-align: top;\n",
       "    }\n",
       "\n",
       "    .dataframe thead th {\n",
       "        text-align: right;\n",
       "    }\n",
       "</style>\n",
       "<table border=\"1\" class=\"dataframe\">\n",
       "  <thead>\n",
       "    <tr style=\"text-align: right;\">\n",
       "      <th></th>\n",
       "      <th>month</th>\n",
       "      <th>year</th>\n",
       "      <th>rounded_journeys_millions</th>\n",
       "    </tr>\n",
       "  </thead>\n",
       "  <tbody>\n",
       "    <tr>\n",
       "      <th>0</th>\n",
       "      <td>5</td>\n",
       "      <td>2012</td>\n",
       "      <td>0.53</td>\n",
       "    </tr>\n",
       "    <tr>\n",
       "      <th>1</th>\n",
       "      <td>6</td>\n",
       "      <td>2012</td>\n",
       "      <td>0.38</td>\n",
       "    </tr>\n",
       "    <tr>\n",
       "      <th>2</th>\n",
       "      <td>4</td>\n",
       "      <td>2012</td>\n",
       "      <td>0.24</td>\n",
       "    </tr>\n",
       "    <tr>\n",
       "      <th>3</th>\n",
       "      <td>5</td>\n",
       "      <td>2013</td>\n",
       "      <td>0.19</td>\n",
       "    </tr>\n",
       "    <tr>\n",
       "      <th>4</th>\n",
       "      <td>5</td>\n",
       "      <td>2015</td>\n",
       "      <td>0.19</td>\n",
       "    </tr>\n",
       "  </tbody>\n",
       "</table>\n",
       "</div>"
      ],
      "text/plain": [
       "   month  year  rounded_journeys_millions\n",
       "0      5  2012                       0.53\n",
       "1      6  2012                       0.38\n",
       "2      4  2012                       0.24\n",
       "3      5  2013                       0.19\n",
       "4      5  2015                       0.19"
      ]
     },
     "metadata": {},
     "output_type": "display_data"
    }
   ],
   "source": [
    "## emirates_airline_popularity\n",
    "emirates_airline_popularity_query = \"\"\"\n",
    "SELECT\n",
    "\tJ.month\n",
    "\t, J.year\n",
    "\t, ROUND(J.journeys_millions, 2)\t\tAS rounded_journeys_millions\n",
    "FROM journeys J\n",
    "WHERE J.journey_type = 'Emirates Airline'\n",
    "ORDER BY J.journeys_millions DESC\n",
    "LIMIT 5\n",
    "\"\"\"\n",
    "\n",
    "# Execute SQL query\n",
    "emirates_airline_popularity_df = pd.read_sql(emirates_airline_popularity_query, conn)\n",
    "\n",
    "display(emirates_airline_popularity_df)"
   ]
  },
  {
   "cell_type": "markdown",
   "id": "ff6aedb1",
   "metadata": {},
   "source": [
    "Least Popular Years Tube"
   ]
  },
  {
   "cell_type": "code",
   "execution_count": 18,
   "id": "c9b84237-2bcb-4c93-8031-b90f671bc1a2",
   "metadata": {
    "customType": "sql",
    "dataFrameVariableName": "least_popular_years_tube",
    "executionCancelledAt": null,
    "executionTime": 1759,
    "lastExecutedAt": 1740467060608,
    "lastExecutedByKernel": "1f9ddcc5-6be0-48e2-b9cb-834cdb56e374",
    "lastScheduledRunId": null,
    "lastSuccessfullyExecutedCode": "-- least_popular_years_tube\nSELECT\n\tJ.year\n\t, J.journey_type\n\t, SUM(J.journeys_millions)\t\tAS total_journeys_millions\nFROM tfl.journeys J\nWHERE J.journey_type = 'Underground & DLR'\nGROUP BY J.journey_type, J.year\nORDER BY total_journeys_millions\nLIMIT 5",
    "outputsMetadata": {
     "0": {
      "height": 550,
      "tableState": {
       "customFilter": {
        "const": {
         "type": "boolean",
         "valid": true,
         "value": true
        },
        "id": "03cee82c-b046-4740-b285-b38b9386f65f",
        "nodeType": "const"
       },
       "quickFilterText": ""
      },
      "type": "dataFrame"
     }
    },
    "sqlCellMode": "dataFrame",
    "sqlSource": {
     "integrationId": "7569175e-98be-4c89-9873-c20f699a9cc7",
     "integrationType": "databricks",
     "type": "integration"
    }
   },
   "outputs": [
    {
     "data": {
      "text/html": [
       "<div>\n",
       "<style scoped>\n",
       "    .dataframe tbody tr th:only-of-type {\n",
       "        vertical-align: middle;\n",
       "    }\n",
       "\n",
       "    .dataframe tbody tr th {\n",
       "        vertical-align: top;\n",
       "    }\n",
       "\n",
       "    .dataframe thead th {\n",
       "        text-align: right;\n",
       "    }\n",
       "</style>\n",
       "<table border=\"1\" class=\"dataframe\">\n",
       "  <thead>\n",
       "    <tr style=\"text-align: right;\">\n",
       "      <th></th>\n",
       "      <th>year</th>\n",
       "      <th>journey_type</th>\n",
       "      <th>total_journeys_millions</th>\n",
       "    </tr>\n",
       "  </thead>\n",
       "  <tbody>\n",
       "    <tr>\n",
       "      <th>0</th>\n",
       "      <td>2020</td>\n",
       "      <td>Underground &amp; DLR</td>\n",
       "      <td>310.179316</td>\n",
       "    </tr>\n",
       "    <tr>\n",
       "      <th>1</th>\n",
       "      <td>2021</td>\n",
       "      <td>Underground &amp; DLR</td>\n",
       "      <td>748.452544</td>\n",
       "    </tr>\n",
       "    <tr>\n",
       "      <th>2</th>\n",
       "      <td>2022</td>\n",
       "      <td>Underground &amp; DLR</td>\n",
       "      <td>1064.859009</td>\n",
       "    </tr>\n",
       "    <tr>\n",
       "      <th>3</th>\n",
       "      <td>2010</td>\n",
       "      <td>Underground &amp; DLR</td>\n",
       "      <td>1096.145588</td>\n",
       "    </tr>\n",
       "    <tr>\n",
       "      <th>4</th>\n",
       "      <td>2011</td>\n",
       "      <td>Underground &amp; DLR</td>\n",
       "      <td>1156.647654</td>\n",
       "    </tr>\n",
       "  </tbody>\n",
       "</table>\n",
       "</div>"
      ],
      "text/plain": [
       "   year       journey_type  total_journeys_millions\n",
       "0  2020  Underground & DLR               310.179316\n",
       "1  2021  Underground & DLR               748.452544\n",
       "2  2022  Underground & DLR              1064.859009\n",
       "3  2010  Underground & DLR              1096.145588\n",
       "4  2011  Underground & DLR              1156.647654"
      ]
     },
     "metadata": {},
     "output_type": "display_data"
    }
   ],
   "source": [
    "## least_popular_years_tube\n",
    "least_popular_years_tube_query = \"\"\"\n",
    "SELECT\n",
    "\tJ.year\n",
    "\t, J.journey_type\n",
    "\t, SUM(J.journeys_millions)\t\tAS total_journeys_millions\n",
    "FROM journeys J\n",
    "WHERE J.journey_type = 'Underground & DLR'\n",
    "GROUP BY J.journey_type, J.year\n",
    "ORDER BY total_journeys_millions\n",
    "LIMIT 5\n",
    "\"\"\"\n",
    "\n",
    "# Execute SQL query\n",
    "least_popular_years_tube_df = pd.read_sql(least_popular_years_tube_query, conn)\n",
    "\n",
    "display(least_popular_years_tube_df)"
   ]
  }
 ],
 "metadata": {
  "colab": {
   "name": "Welcome to DataCamp Workspaces.ipynb",
   "provenance": []
  },
  "kernelspec": {
   "display_name": "Python 3",
   "language": "python",
   "name": "python3"
  },
  "language_info": {
   "codemirror_mode": {
    "name": "ipython",
    "version": 3
   },
   "file_extension": ".py",
   "mimetype": "text/x-python",
   "name": "python",
   "nbconvert_exporter": "python",
   "pygments_lexer": "ipython3",
   "version": "3.11.9"
  }
 },
 "nbformat": 4,
 "nbformat_minor": 5
}
